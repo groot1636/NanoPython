{
 "cells": [
  {
   "cell_type": "code",
   "execution_count": 2,
   "metadata": {},
   "outputs": [],
   "source": [
    "import dlib\n",
    "import cv2 as cv"
   ]
  },
  {
   "cell_type": "code",
   "execution_count": 3,
   "metadata": {},
   "outputs": [],
   "source": [
    "detector = dlib.get_frontal_face_detector()\n",
    "predictor = dlib.shape_predictor('shape_predictor.dat')"
   ]
  },
  {
   "cell_type": "code",
   "execution_count": 11,
   "metadata": {},
   "outputs": [
    {
     "data": {
      "text/plain": [
       "True"
      ]
     },
     "execution_count": 11,
     "metadata": {},
     "output_type": "execute_result"
    }
   ],
   "source": [
    "img = cv.imread('my_img.jpeg')\n",
    "#img = cv.resize(img, (img.shape[1]//4, img.shape[0]//4))\n",
    "\n",
    "det = detector(img)\n",
    "\n",
    "x1 = int(det[0].left())\n",
    "y1 = int(det[0].right())\n",
    "x2 = int(det[0].top())\n",
    "y2 = int(det[0].bottom())\n",
    "\n",
    "pred = predictor(img,det[0])\n",
    "\n",
    "i = 1\n",
    "for points in pred.parts():\n",
    "    \n",
    "    cv.circle(img, (int(points.x),int(points.y)),2,(233,197,110),-1)\n",
    "    cv.putText(img, str(i), (int(points.x),int(points.y)), cv.FONT_HERSHEY_PLAIN, .7, (110,197,233),1)\n",
    "    i += 1\n",
    "    \n",
    "cv.imwrite('my_new_img.png',img)\n",
    "    "
   ]
  },
  {
   "cell_type": "code",
   "execution_count": null,
   "metadata": {},
   "outputs": [],
   "source": []
  },
  {
   "cell_type": "code",
   "execution_count": null,
   "metadata": {},
   "outputs": [],
   "source": []
  }
 ],
 "metadata": {
  "kernelspec": {
   "display_name": "Python 3",
   "language": "python",
   "name": "python3"
  },
  "language_info": {
   "codemirror_mode": {
    "name": "ipython",
    "version": 3
   },
   "file_extension": ".py",
   "mimetype": "text/x-python",
   "name": "python",
   "nbconvert_exporter": "python",
   "pygments_lexer": "ipython3",
   "version": "3.8.5"
  }
 },
 "nbformat": 4,
 "nbformat_minor": 4
}
