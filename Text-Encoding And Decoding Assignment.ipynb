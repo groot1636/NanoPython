{
 "cells": [
  {
   "cell_type": "code",
   "execution_count": 1,
   "metadata": {},
   "outputs": [],
   "source": [
    "txt = '''Coronavirus disease 2019 (COVID-19) is a contagious disease caused by severe acute respiratory syndrome coronavirus 2 (SARS-CoV-2). The first known case was identified in Wuhan, China, in December 2019.[7] The disease has since spread worldwide, leading to an ongoing pandemic.[8]\n",
    "\n",
    "Symptoms of COVID-19 are variable, but often include fever,[9] cough, headache,[10] fatigue, breathing difficulties, and loss of smell and taste.[11][12][13] Symptoms may begin one to fourteen days after exposure to the virus. At least a third of people who are infected do not develop noticeable symptoms.[14] Of those people who develop symptoms noticeable enough to be classed as patients, most (81%) develop mild to moderate symptoms (up to mild pneumonia), while 14% develop severe symptoms (dyspnea, hypoxia, or more than 50% lung involvement on imaging), and 5% suffer critical symptoms (respiratory failure, shock, or multiorgan dysfunction).[15] Older people are at a higher risk of developing severe symptoms. Some people continue to experience a range of effects (long COVID) for months after recovery, and damage to organs has been observed.[16] Multi-year studies are underway to further investigate the long-term effects of the disease.[16]\n",
    "\n",
    "COVID-19 transmits when people breathe in air contaminated by droplets and small airborne particles containing the virus. The risk of breathing these in is highest when people are in close proximity, but they can be inhaled over longer distances, particularly indoors. Transmission can also occur if splashed or sprayed with contaminated fluids in the eyes, nose or mouth, and, rarely, via contaminated surfaces. People remain contagious for up to 20 days, and can spread the virus even if they do not develop symptoms.[17][18]\n",
    "\n",
    "Several testing methods have been developed to diagnose the disease. The standard diagnostic method is by detection of the virus' nucleic acid by real-time reverse transcription polymerase chain reaction (rRT-PCR), transcription-mediated amplification (TMA), or by reverse transcription loop-mediated isothermal amplification (RT-LAMP) from a nasopharyngeal swab.\n",
    "\n",
    "Several COVID-19 vaccines have been approved and distributed in various countries, which have initiated mass vaccination campaigns. Other preventive measures include physical or social distancing, quarantining, ventilation of indoor spaces, covering coughs and sneezes, hand washing, and keeping unwashed hands away from the face. The use of face masks or coverings has been recommended in public settings to minimize the risk of transmissions. While work is underway to develop drugs that inhibit the virus, the primary treatment is symptomatic. Management involves the treatment of symptoms, supportive care, isolation, and experimental measures.'''"
   ]
  },
  {
   "cell_type": "code",
   "execution_count": 2,
   "metadata": {},
   "outputs": [
    {
     "data": {
      "text/plain": [
       "\"Coronavirus disease 2019 (COVID-19) is a contagious disease caused by severe acute respiratory syndrome coronavirus 2 (SARS-CoV-2). The first known case was identified in Wuhan, China, in December 2019.[7] The disease has since spread worldwide, leading to an ongoing pandemic.[8]\\n\\nSymptoms of COVID-19 are variable, but often include fever,[9] cough, headache,[10] fatigue, breathing difficulties, and loss of smell and taste.[11][12][13] Symptoms may begin one to fourteen days after exposure to the virus. At least a third of people who are infected do not develop noticeable symptoms.[14] Of those people who develop symptoms noticeable enough to be classed as patients, most (81%) develop mild to moderate symptoms (up to mild pneumonia), while 14% develop severe symptoms (dyspnea, hypoxia, or more than 50% lung involvement on imaging), and 5% suffer critical symptoms (respiratory failure, shock, or multiorgan dysfunction).[15] Older people are at a higher risk of developing severe symptoms. Some people continue to experience a range of effects (long COVID) for months after recovery, and damage to organs has been observed.[16] Multi-year studies are underway to further investigate the long-term effects of the disease.[16]\\n\\nCOVID-19 transmits when people breathe in air contaminated by droplets and small airborne particles containing the virus. The risk of breathing these in is highest when people are in close proximity, but they can be inhaled over longer distances, particularly indoors. Transmission can also occur if splashed or sprayed with contaminated fluids in the eyes, nose or mouth, and, rarely, via contaminated surfaces. People remain contagious for up to 20 days, and can spread the virus even if they do not develop symptoms.[17][18]\\n\\nSeveral testing methods have been developed to diagnose the disease. The standard diagnostic method is by detection of the virus' nucleic acid by real-time reverse transcription polymerase chain reaction (rRT-PCR), transcription-mediated amplification (TMA), or by reverse transcription loop-mediated isothermal amplification (RT-LAMP) from a nasopharyngeal swab.\\n\\nSeveral COVID-19 vaccines have been approved and distributed in various countries, which have initiated mass vaccination campaigns. Other preventive measures include physical or social distancing, quarantining, ventilation of indoor spaces, covering coughs and sneezes, hand washing, and keeping unwashed hands away from the face. The use of face masks or coverings has been recommended in public settings to minimize the risk of transmissions. While work is underway to develop drugs that inhibit the virus, the primary treatment is symptomatic. Management involves the treatment of symptoms, supportive care, isolation, and experimental measures.\""
      ]
     },
     "execution_count": 2,
     "metadata": {},
     "output_type": "execute_result"
    }
   ],
   "source": [
    "txt"
   ]
  },
  {
   "cell_type": "code",
   "execution_count": 3,
   "metadata": {},
   "outputs": [],
   "source": [
    "txt = txt.lower()\n",
    "\n",
    "for i in range(7,19):\n",
    "    err = '[' + str(i) + ']'\n",
    "    txt = txt.replace(err,'')\n",
    "    \n",
    "for i in '@^&*#$%!\"\"_+~`<>(),{}0123456789-':\n",
    "    txt = txt.replace(i,'')\n",
    "    \n",
    "txt = txt.replace('\\n\\n','')"
   ]
  },
  {
   "cell_type": "code",
   "execution_count": 4,
   "metadata": {},
   "outputs": [
    {
     "data": {
      "text/plain": [
       "\"coronavirus disease  covid is a contagious disease caused by severe acute respiratory syndrome coronavirus  sarscov. the first known case was identified in wuhan china in december . the disease has since spread worldwide leading to an ongoing pandemic.symptoms of covid are variable but often include fever cough headache fatigue breathing difficulties and loss of smell and taste. symptoms may begin one to fourteen days after exposure to the virus. at least a third of people who are infected do not develop noticeable symptoms. of those people who develop symptoms noticeable enough to be classed as patients most  develop mild to moderate symptoms up to mild pneumonia while  develop severe symptoms dyspnea hypoxia or more than  lung involvement on imaging and  suffer critical symptoms respiratory failure shock or multiorgan dysfunction. older people are at a higher risk of developing severe symptoms. some people continue to experience a range of effects long covid for months after recovery and damage to organs has been observed. multiyear studies are underway to further investigate the longterm effects of the disease.covid transmits when people breathe in air contaminated by droplets and small airborne particles containing the virus. the risk of breathing these in is highest when people are in close proximity but they can be inhaled over longer distances particularly indoors. transmission can also occur if splashed or sprayed with contaminated fluids in the eyes nose or mouth and rarely via contaminated surfaces. people remain contagious for up to  days and can spread the virus even if they do not develop symptoms.several testing methods have been developed to diagnose the disease. the standard diagnostic method is by detection of the virus' nucleic acid by realtime reverse transcription polymerase chain reaction rrtpcr transcriptionmediated amplification tma or by reverse transcription loopmediated isothermal amplification rtlamp from a nasopharyngeal swab.several covid vaccines have been approved and distributed in various countries which have initiated mass vaccination campaigns. other preventive measures include physical or social distancing quarantining ventilation of indoor spaces covering coughs and sneezes hand washing and keeping unwashed hands away from the face. the use of face masks or coverings has been recommended in public settings to minimize the risk of transmissions. while work is underway to develop drugs that inhibit the virus the primary treatment is symptomatic. management involves the treatment of symptoms supportive care isolation and experimental measures.\""
      ]
     },
     "execution_count": 4,
     "metadata": {},
     "output_type": "execute_result"
    }
   ],
   "source": [
    "txt"
   ]
  },
  {
   "cell_type": "code",
   "execution_count": 5,
   "metadata": {},
   "outputs": [],
   "source": [
    "sent = txt.split('.')"
   ]
  },
  {
   "cell_type": "code",
   "execution_count": 6,
   "metadata": {},
   "outputs": [
    {
     "data": {
      "text/plain": [
       "['coronavirus disease  covid is a contagious disease caused by severe acute respiratory syndrome coronavirus  sarscov',\n",
       " ' the first known case was identified in wuhan china in december ',\n",
       " ' the disease has since spread worldwide leading to an ongoing pandemic',\n",
       " 'symptoms of covid are variable but often include fever cough headache fatigue breathing difficulties and loss of smell and taste',\n",
       " ' symptoms may begin one to fourteen days after exposure to the virus',\n",
       " ' at least a third of people who are infected do not develop noticeable symptoms',\n",
       " ' of those people who develop symptoms noticeable enough to be classed as patients most  develop mild to moderate symptoms up to mild pneumonia while  develop severe symptoms dyspnea hypoxia or more than  lung involvement on imaging and  suffer critical symptoms respiratory failure shock or multiorgan dysfunction',\n",
       " ' older people are at a higher risk of developing severe symptoms',\n",
       " ' some people continue to experience a range of effects long covid for months after recovery and damage to organs has been observed',\n",
       " ' multiyear studies are underway to further investigate the longterm effects of the disease',\n",
       " 'covid transmits when people breathe in air contaminated by droplets and small airborne particles containing the virus',\n",
       " ' the risk of breathing these in is highest when people are in close proximity but they can be inhaled over longer distances particularly indoors',\n",
       " ' transmission can also occur if splashed or sprayed with contaminated fluids in the eyes nose or mouth and rarely via contaminated surfaces',\n",
       " ' people remain contagious for up to  days and can spread the virus even if they do not develop symptoms',\n",
       " 'several testing methods have been developed to diagnose the disease',\n",
       " \" the standard diagnostic method is by detection of the virus' nucleic acid by realtime reverse transcription polymerase chain reaction rrtpcr transcriptionmediated amplification tma or by reverse transcription loopmediated isothermal amplification rtlamp from a nasopharyngeal swab\",\n",
       " 'several covid vaccines have been approved and distributed in various countries which have initiated mass vaccination campaigns',\n",
       " ' other preventive measures include physical or social distancing quarantining ventilation of indoor spaces covering coughs and sneezes hand washing and keeping unwashed hands away from the face',\n",
       " ' the use of face masks or coverings has been recommended in public settings to minimize the risk of transmissions',\n",
       " ' while work is underway to develop drugs that inhibit the virus the primary treatment is symptomatic',\n",
       " ' management involves the treatment of symptoms supportive care isolation and experimental measures',\n",
       " '']"
      ]
     },
     "execution_count": 6,
     "metadata": {},
     "output_type": "execute_result"
    }
   ],
   "source": [
    "sent"
   ]
  },
  {
   "cell_type": "code",
   "execution_count": 7,
   "metadata": {},
   "outputs": [
    {
     "data": {
      "text/plain": [
       "22"
      ]
     },
     "execution_count": 7,
     "metadata": {},
     "output_type": "execute_result"
    }
   ],
   "source": [
    "len(sent)"
   ]
  },
  {
   "cell_type": "code",
   "execution_count": 40,
   "metadata": {},
   "outputs": [
    {
     "name": "stdout",
     "output_type": "stream",
     "text": [
      "-----------------ENCODE----------------\n",
      "dict_values([0, 1, 2, 3, 4, 5, 6, 7, 8, 9, 10, 11, 12, 13])\n",
      "-----------------DECODE-----------------\n",
      "dict_values(['', 'syndrome', 'covid', 'by', 'coronavirus', 'a', 'is', 'contagious', 'respiratory', 'disease', 'severe', 'sarscov', 'acute', 'caused'])\n",
      "----------------------------------------\n",
      "-----------------ENCODE----------------\n",
      "dict_values([14, 15, 16, 17, 18, 19, 20, 21, 22, 23, 24])\n",
      "-----------------DECODE-----------------\n",
      "dict_values(['', 'case', 'december', 'in', 'identified', 'china', 'was', 'the', 'known', 'wuhan', 'first'])\n",
      "----------------------------------------\n",
      "-----------------ENCODE----------------\n",
      "dict_values([25, 26, 27, 28, 29, 30, 31, 32, 33, 34, 35, 36])\n",
      "-----------------DECODE-----------------\n",
      "dict_values(['', 'worldwide', 'spread', 'has', 'ongoing', 'pandemic', 'the', 'leading', 'since', 'disease', 'an', 'to'])\n",
      "----------------------------------------\n",
      "-----------------ENCODE----------------\n",
      "dict_values([37, 38, 39, 40, 41, 42, 43, 44, 45, 46, 47, 48, 49, 50, 51, 52, 53, 54])\n",
      "-----------------DECODE-----------------\n",
      "dict_values(['but', 'symptoms', 'fatigue', 'covid', 'are', 'of', 'smell', 'fever', 'breathing', 'often', 'cough', 'taste', 'variable', 'difficulties', 'loss', 'headache', 'include', 'and'])\n",
      "----------------------------------------\n",
      "-----------------ENCODE----------------\n",
      "dict_values([55, 56, 57, 58, 59, 60, 61, 62, 63, 64, 65, 66])\n",
      "-----------------DECODE-----------------\n",
      "dict_values(['', 'symptoms', 'begin', 'one', 'fourteen', 'days', 'after', 'exposure', 'may', 'the', 'virus', 'to'])\n",
      "----------------------------------------\n",
      "-----------------ENCODE----------------\n",
      "dict_values([67, 68, 69, 70, 71, 72, 73, 74, 75, 76, 77, 78, 79, 80, 81])\n",
      "-----------------DECODE-----------------\n",
      "dict_values(['', 'who', 'least', 'people', 'do', 'symptoms', 'are', 'develop', 'of', 'a', 'not', 'noticeable', 'third', 'at', 'infected'])\n",
      "----------------------------------------\n",
      "-----------------ENCODE----------------\n",
      "dict_values([82, 83, 84, 85, 86, 87, 88, 89, 90, 91, 92, 93, 94, 95, 96, 97, 98, 99, 100, 101, 102, 103, 104, 105, 106, 107, 108, 109, 110, 111, 112, 113, 114, 115, 116, 117, 118, 119])\n",
      "-----------------DECODE-----------------\n",
      "dict_values(['', 'involvement', 'develop', 'enough', 'most', 'moderate', 'those', 'on', 'as', 'imaging', 'and', 'critical', 'symptoms', 'up', 'while', 'failure', 'hypoxia', 'suffer', 'multiorgan', 'pneumonia', 'lung', 'be', 'people', 'shock', 'dysfunction', 'patients', 'mild', 'respiratory', 'noticeable', 'more', 'to', 'who', 'or', 'of', 'than', 'dyspnea', 'severe', 'classed'])\n",
      "----------------------------------------\n",
      "-----------------ENCODE----------------\n",
      "dict_values([120, 121, 122, 123, 124, 125, 126, 127, 128, 129, 130, 131])\n",
      "-----------------DECODE-----------------\n",
      "dict_values(['', 'symptoms', 'people', 'developing', 'are', 'risk', 'of', 'higher', 'a', 'older', 'severe', 'at'])\n",
      "----------------------------------------\n",
      "-----------------ENCODE----------------\n",
      "dict_values([132, 133, 134, 135, 136, 137, 138, 139, 140, 141, 142, 143, 144, 145, 146, 147, 148, 149, 150, 151, 152, 153])\n",
      "-----------------DECODE-----------------\n",
      "dict_values(['', 'has', 'range', 'for', 'a', 'damage', 'some', 'and', 'covid', 'long', 'organs', 'observed', 'continue', 'people', 'recovery', 'effects', 'experience', 'after', 'been', 'to', 'months', 'of'])\n",
      "----------------------------------------\n",
      "-----------------ENCODE----------------\n",
      "dict_values([154, 155, 156, 157, 158, 159, 160, 161, 162, 163, 164, 165, 166])\n",
      "-----------------DECODE-----------------\n",
      "dict_values(['', 'studies', 'further', 'are', 'longterm', 'of', 'effects', 'the', 'investigate', 'disease', 'underway', 'multiyear', 'to'])\n",
      "----------------------------------------\n",
      "-----------------ENCODE----------------\n",
      "dict_values([167, 168, 169, 170, 171, 172, 173, 174, 175, 176, 177, 178, 179, 180, 181, 182, 183])\n",
      "-----------------DECODE-----------------\n",
      "dict_values(['droplets', 'people', 'covid', 'when', 'in', 'air', 'by', 'airborne', 'breathe', 'the', 'contaminated', 'virus', 'containing', 'small', 'transmits', 'particles', 'and'])\n",
      "----------------------------------------\n",
      "-----------------ENCODE----------------\n",
      "dict_values([184, 185, 186, 187, 188, 189, 190, 191, 192, 193, 194, 195, 196, 197, 198, 199, 200, 201, 202, 203, 204, 205, 206, 207])\n",
      "-----------------DECODE-----------------\n",
      "dict_values(['', 'but', 'close', 'over', 'inhaled', 'is', 'the', 'particularly', 'highest', 'when', 'are', 'risk', 'longer', 'indoors', 'be', 'people', 'proximity', 'in', 'they', 'of', 'distances', 'breathing', 'can', 'these'])\n",
      "----------------------------------------\n",
      "-----------------ENCODE----------------\n",
      "dict_values([208, 209, 210, 211, 212, 213, 214, 215, 216, 217, 218, 219, 220, 221, 222, 223, 224, 225, 226, 227, 228])\n",
      "-----------------DECODE-----------------\n",
      "dict_values(['', 'also', 'eyes', 'the', 'and', 'transmission', 'sprayed', 'occur', 'splashed', 'fluids', 'if', 'via', 'with', 'nose', 'surfaces', 'or', 'in', 'mouth', 'rarely', 'can', 'contaminated'])\n",
      "----------------------------------------\n",
      "-----------------ENCODE----------------\n",
      "dict_values([229, 230, 231, 232, 233, 234, 235, 236, 237, 238, 239, 240, 241, 242, 243, 244, 245, 246, 247, 248])\n",
      "-----------------DECODE-----------------\n",
      "dict_values(['', 'remain', 'develop', 'for', 'the', 'and', 'symptoms', 'up', 'do', 'contagious', 'virus', 'people', 'if', 'days', 'not', 'to', 'even', 'spread', 'they', 'can'])\n",
      "----------------------------------------\n",
      "-----------------ENCODE----------------\n",
      "dict_values([249, 250, 251, 252, 253, 254, 255, 256, 257, 258])\n",
      "-----------------DECODE-----------------\n",
      "dict_values(['have', 'testing', 'several', 'diagnose', 'methods', 'the', 'disease', 'developed', 'been', 'to'])\n",
      "----------------------------------------\n",
      "-----------------ENCODE----------------\n",
      "dict_values([259, 260, 261, 262, 263, 264, 265, 266, 267, 268, 269, 270, 271, 272, 273, 274, 275, 276, 277, 278, 279, 280, 281, 282, 283, 284, 285, 286, 287, 288])\n",
      "-----------------DECODE-----------------\n",
      "dict_values(['', 'reverse', 'diagnostic', 'method', 'isothermal', 'transcription', 'is', 'the', 'a', 'reaction', 'rrtpcr', 'detection', 'chain', 'rtlamp', 'by', 'transcriptionmediated', 'tma', 'amplification', 'from', 'nucleic', 'acid', 'polymerase', 'standard', 'nasopharyngeal', 'swab', 'realtime', 'or', 'of', 'loopmediated', \"virus'\"])\n",
      "----------------------------------------\n",
      "-----------------ENCODE----------------\n",
      "dict_values([289, 290, 291, 292, 293, 294, 295, 296, 297, 298, 299, 300, 301, 302, 303, 304])\n",
      "-----------------DECODE-----------------\n",
      "dict_values(['have', 'distributed', 'covid', 'in', 'countries', 'mass', 'several', 'vaccines', 'various', 'which', 'vaccination', 'campaigns', 'initiated', 'approved', 'been', 'and'])\n",
      "----------------------------------------\n",
      "-----------------ENCODE----------------\n",
      "dict_values([305, 306, 307, 308, 309, 310, 311, 312, 313, 314, 315, 316, 317, 318, 319, 320, 321, 322, 323, 324, 325, 326, 327, 328, 329, 330, 331])\n",
      "-----------------DECODE-----------------\n",
      "dict_values(['', 'other', 'covering', 'the', 'measures', 'washing', 'coughs', 'and', 'hand', 'keeping', 'indoor', 'sneezes', 'distancing', 'face', 'physical', 'ventilation', 'spaces', 'from', 'include', 'quarantining', 'social', 'or', 'unwashed', 'of', 'away', 'hands', 'preventive'])\n",
      "----------------------------------------\n",
      "-----------------ENCODE----------------\n",
      "dict_values([332, 333, 334, 335, 336, 337, 338, 339, 340, 341, 342, 343, 344, 345, 346, 347, 348, 349])\n",
      "-----------------DECODE-----------------\n",
      "dict_values(['', 'use', 'public', 'or', 'in', 'minimize', 'has', 'of', 'recommended', 'risk', 'transmissions', 'the', 'to', 'settings', 'face', 'been', 'masks', 'coverings'])\n",
      "----------------------------------------\n",
      "-----------------ENCODE----------------\n",
      "dict_values([350, 351, 352, 353, 354, 355, 356, 357, 358, 359, 360, 361, 362, 363, 364])\n",
      "-----------------DECODE-----------------\n",
      "dict_values(['', 'primary', 'treatment', 'develop', 'while', 'that', 'work', 'is', 'the', 'symptomatic', 'virus', 'inhibit', 'drugs', 'underway', 'to'])\n",
      "----------------------------------------\n",
      "-----------------ENCODE----------------\n",
      "dict_values([365, 366, 367, 368, 369, 370, 371, 372, 373, 374, 375, 376, 377])\n",
      "-----------------DECODE-----------------\n",
      "dict_values(['', 'symptoms', 'involves', 'treatment', 'care', 'management', 'of', 'supportive', 'experimental', 'the', 'measures', 'isolation', 'and'])\n",
      "----------------------------------------\n",
      "-----------------ENCODE----------------\n",
      "dict_values([378])\n",
      "-----------------DECODE-----------------\n",
      "dict_values([''])\n",
      "----------------------------------------\n"
     ]
    }
   ],
   "source": [
    "var = 0\n",
    "for i in range(len(sent)):\n",
    "    words = sent[i].split(' ')\n",
    "    vocab = list(set(words)) \n",
    "    word_2_int = {}\n",
    "    int_2_word = {}\n",
    "    for x in vocab:\n",
    "        word_2_int[x] = var\n",
    "        int_2_word[var] = x\n",
    "        var += 1\n",
    "    print('-----------------ENCODE----------------')\n",
    "    print(word_2_int.values())\n",
    "    print('-----------------DECODE-----------------')\n",
    "    print(int_2_word.values())\n",
    "    print('----------------------------------------')\n"
   ]
  },
  {
   "cell_type": "code",
   "execution_count": null,
   "metadata": {},
   "outputs": [],
   "source": []
  },
  {
   "cell_type": "code",
   "execution_count": null,
   "metadata": {},
   "outputs": [],
   "source": []
  }
 ],
 "metadata": {
  "kernelspec": {
   "display_name": "Python 3",
   "language": "python",
   "name": "python3"
  },
  "language_info": {
   "codemirror_mode": {
    "name": "ipython",
    "version": 3
   },
   "file_extension": ".py",
   "mimetype": "text/x-python",
   "name": "python",
   "nbconvert_exporter": "python",
   "pygments_lexer": "ipython3",
   "version": "3.8.5"
  }
 },
 "nbformat": 4,
 "nbformat_minor": 4
}
